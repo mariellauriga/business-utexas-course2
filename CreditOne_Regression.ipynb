{
 "cells": [
  {
   "cell_type": "code",
   "execution_count": 2,
   "id": "38c0a2aa",
   "metadata": {},
   "outputs": [],
   "source": [
    "import numpy as np\n",
    "import pandas as pd\n",
    "import scipy\n",
    "from math import sqrt\n",
    "import matplotlib.pyplot as plt\n",
    "from math import sqrt\n",
    "\n",
    "#estimators\n",
    "from sklearn.ensemble import RandomForestRegressor\n",
    "from sklearn.linear_model import LinearRegression\n",
    "from sklearn.svm import SVR\n",
    "\n",
    "#model metrics\n",
    "from sklearn.metrics import mean_squared_error as MSE\n",
    "from sklearn.metrics import mean_absolute_error as MAE\n",
    "from sklearn.metrics import r2_score\n",
    "from sklearn.model_selection import cross_val_score\n",
    "from sklearn.model_selection import GridSearchCV\n",
    "\n",
    "#cross validation\n",
    "from sklearn.model_selection import train_test_split\n"
   ]
  },
  {
   "cell_type": "code",
   "execution_count": 3,
   "id": "cd20b890",
   "metadata": {},
   "outputs": [],
   "source": [
    "from feature_engine.discretisers import EqualWidthDiscretiser"
   ]
  },
  {
   "cell_type": "code",
   "execution_count": 4,
   "id": "2b90fe26",
   "metadata": {},
   "outputs": [],
   "source": [
    "data = pd.read_csv(\"Credit_One_DataSet.csv\")"
   ]
  },
  {
   "cell_type": "code",
   "execution_count": 5,
   "id": "b53e7a67",
   "metadata": {},
   "outputs": [
    {
     "data": {
      "text/html": [
       "<div>\n",
       "<style scoped>\n",
       "    .dataframe tbody tr th:only-of-type {\n",
       "        vertical-align: middle;\n",
       "    }\n",
       "\n",
       "    .dataframe tbody tr th {\n",
       "        vertical-align: top;\n",
       "    }\n",
       "\n",
       "    .dataframe thead th {\n",
       "        text-align: right;\n",
       "    }\n",
       "</style>\n",
       "<table border=\"1\" class=\"dataframe\">\n",
       "  <thead>\n",
       "    <tr style=\"text-align: right;\">\n",
       "      <th></th>\n",
       "      <th>LIMIT_BAL</th>\n",
       "      <th>DPNM</th>\n",
       "      <th>SEX</th>\n",
       "      <th>EDUCATION</th>\n",
       "      <th>MARRIAGE</th>\n",
       "      <th>AGE</th>\n",
       "      <th>PAY_0</th>\n",
       "      <th>PAY_2</th>\n",
       "      <th>PAY_3</th>\n",
       "      <th>PAY_4</th>\n",
       "      <th>...</th>\n",
       "      <th>BILL_AMT3</th>\n",
       "      <th>BILL_AMT4</th>\n",
       "      <th>BILL_AMT5</th>\n",
       "      <th>BILL_AMT6</th>\n",
       "      <th>PAY_AMT1</th>\n",
       "      <th>PAY_AMT2</th>\n",
       "      <th>PAY_AMT3</th>\n",
       "      <th>PAY_AMT4</th>\n",
       "      <th>PAY_AMT5</th>\n",
       "      <th>PAY_AMT6</th>\n",
       "    </tr>\n",
       "  </thead>\n",
       "  <tbody>\n",
       "    <tr>\n",
       "      <th>0</th>\n",
       "      <td>20000</td>\n",
       "      <td>1</td>\n",
       "      <td>2</td>\n",
       "      <td>2</td>\n",
       "      <td>1</td>\n",
       "      <td>24</td>\n",
       "      <td>2</td>\n",
       "      <td>2</td>\n",
       "      <td>-1</td>\n",
       "      <td>-1</td>\n",
       "      <td>...</td>\n",
       "      <td>689</td>\n",
       "      <td>0</td>\n",
       "      <td>0</td>\n",
       "      <td>0</td>\n",
       "      <td>0</td>\n",
       "      <td>689</td>\n",
       "      <td>0</td>\n",
       "      <td>0</td>\n",
       "      <td>0</td>\n",
       "      <td>0</td>\n",
       "    </tr>\n",
       "    <tr>\n",
       "      <th>1</th>\n",
       "      <td>120000</td>\n",
       "      <td>1</td>\n",
       "      <td>2</td>\n",
       "      <td>2</td>\n",
       "      <td>2</td>\n",
       "      <td>26</td>\n",
       "      <td>-1</td>\n",
       "      <td>2</td>\n",
       "      <td>0</td>\n",
       "      <td>0</td>\n",
       "      <td>...</td>\n",
       "      <td>2682</td>\n",
       "      <td>3272</td>\n",
       "      <td>3455</td>\n",
       "      <td>3261</td>\n",
       "      <td>0</td>\n",
       "      <td>1000</td>\n",
       "      <td>1000</td>\n",
       "      <td>1000</td>\n",
       "      <td>0</td>\n",
       "      <td>2000</td>\n",
       "    </tr>\n",
       "    <tr>\n",
       "      <th>2</th>\n",
       "      <td>90000</td>\n",
       "      <td>0</td>\n",
       "      <td>2</td>\n",
       "      <td>2</td>\n",
       "      <td>2</td>\n",
       "      <td>34</td>\n",
       "      <td>0</td>\n",
       "      <td>0</td>\n",
       "      <td>0</td>\n",
       "      <td>0</td>\n",
       "      <td>...</td>\n",
       "      <td>13559</td>\n",
       "      <td>14331</td>\n",
       "      <td>14948</td>\n",
       "      <td>15549</td>\n",
       "      <td>1518</td>\n",
       "      <td>1500</td>\n",
       "      <td>1000</td>\n",
       "      <td>1000</td>\n",
       "      <td>1000</td>\n",
       "      <td>5000</td>\n",
       "    </tr>\n",
       "    <tr>\n",
       "      <th>3</th>\n",
       "      <td>50000</td>\n",
       "      <td>0</td>\n",
       "      <td>2</td>\n",
       "      <td>2</td>\n",
       "      <td>1</td>\n",
       "      <td>37</td>\n",
       "      <td>0</td>\n",
       "      <td>0</td>\n",
       "      <td>0</td>\n",
       "      <td>0</td>\n",
       "      <td>...</td>\n",
       "      <td>49291</td>\n",
       "      <td>28314</td>\n",
       "      <td>28959</td>\n",
       "      <td>29547</td>\n",
       "      <td>2000</td>\n",
       "      <td>2019</td>\n",
       "      <td>1200</td>\n",
       "      <td>1100</td>\n",
       "      <td>1069</td>\n",
       "      <td>1000</td>\n",
       "    </tr>\n",
       "    <tr>\n",
       "      <th>4</th>\n",
       "      <td>50000</td>\n",
       "      <td>0</td>\n",
       "      <td>1</td>\n",
       "      <td>2</td>\n",
       "      <td>1</td>\n",
       "      <td>57</td>\n",
       "      <td>-1</td>\n",
       "      <td>0</td>\n",
       "      <td>-1</td>\n",
       "      <td>0</td>\n",
       "      <td>...</td>\n",
       "      <td>35835</td>\n",
       "      <td>20940</td>\n",
       "      <td>19146</td>\n",
       "      <td>19131</td>\n",
       "      <td>2000</td>\n",
       "      <td>36681</td>\n",
       "      <td>10000</td>\n",
       "      <td>9000</td>\n",
       "      <td>689</td>\n",
       "      <td>679</td>\n",
       "    </tr>\n",
       "  </tbody>\n",
       "</table>\n",
       "<p>5 rows × 24 columns</p>\n",
       "</div>"
      ],
      "text/plain": [
       "   LIMIT_BAL  DPNM  SEX  EDUCATION  MARRIAGE  AGE  PAY_0  PAY_2  PAY_3  PAY_4  \\\n",
       "0      20000     1    2          2         1   24      2      2     -1     -1   \n",
       "1     120000     1    2          2         2   26     -1      2      0      0   \n",
       "2      90000     0    2          2         2   34      0      0      0      0   \n",
       "3      50000     0    2          2         1   37      0      0      0      0   \n",
       "4      50000     0    1          2         1   57     -1      0     -1      0   \n",
       "\n",
       "   ...  BILL_AMT3  BILL_AMT4  BILL_AMT5  BILL_AMT6  PAY_AMT1  PAY_AMT2  \\\n",
       "0  ...        689          0          0          0         0       689   \n",
       "1  ...       2682       3272       3455       3261         0      1000   \n",
       "2  ...      13559      14331      14948      15549      1518      1500   \n",
       "3  ...      49291      28314      28959      29547      2000      2019   \n",
       "4  ...      35835      20940      19146      19131      2000     36681   \n",
       "\n",
       "   PAY_AMT3  PAY_AMT4  PAY_AMT5  PAY_AMT6  \n",
       "0         0         0         0         0  \n",
       "1      1000      1000         0      2000  \n",
       "2      1000      1000      1000      5000  \n",
       "3      1200      1100      1069      1000  \n",
       "4     10000      9000       689       679  \n",
       "\n",
       "[5 rows x 24 columns]"
      ]
     },
     "execution_count": 5,
     "metadata": {},
     "output_type": "execute_result"
    }
   ],
   "source": [
    "data.head()"
   ]
  },
  {
   "cell_type": "code",
   "execution_count": 6,
   "id": "489904a1",
   "metadata": {},
   "outputs": [
    {
     "name": "stdout",
     "output_type": "stream",
     "text": [
      "<class 'pandas.core.frame.DataFrame'>\n",
      "RangeIndex: 30000 entries, 0 to 29999\n",
      "Data columns (total 24 columns):\n",
      " #   Column     Non-Null Count  Dtype\n",
      "---  ------     --------------  -----\n",
      " 0   LIMIT_BAL  30000 non-null  int64\n",
      " 1   DPNM       30000 non-null  int64\n",
      " 2   SEX        30000 non-null  int64\n",
      " 3   EDUCATION  30000 non-null  int64\n",
      " 4   MARRIAGE   30000 non-null  int64\n",
      " 5   AGE        30000 non-null  int64\n",
      " 6   PAY_0      30000 non-null  int64\n",
      " 7   PAY_2      30000 non-null  int64\n",
      " 8   PAY_3      30000 non-null  int64\n",
      " 9   PAY_4      30000 non-null  int64\n",
      " 10  PAY_5      30000 non-null  int64\n",
      " 11  PAY_6      30000 non-null  int64\n",
      " 12  BILL_AMT1  30000 non-null  int64\n",
      " 13  BILL_AMT2  30000 non-null  int64\n",
      " 14  BILL_AMT3  30000 non-null  int64\n",
      " 15  BILL_AMT4  30000 non-null  int64\n",
      " 16  BILL_AMT5  30000 non-null  int64\n",
      " 17  BILL_AMT6  30000 non-null  int64\n",
      " 18  PAY_AMT1   30000 non-null  int64\n",
      " 19  PAY_AMT2   30000 non-null  int64\n",
      " 20  PAY_AMT3   30000 non-null  int64\n",
      " 21  PAY_AMT4   30000 non-null  int64\n",
      " 22  PAY_AMT5   30000 non-null  int64\n",
      " 23  PAY_AMT6   30000 non-null  int64\n",
      "dtypes: int64(24)\n",
      "memory usage: 5.5 MB\n"
     ]
    }
   ],
   "source": [
    "#data = data[data['DPNM']==1]\n",
    "data.info()"
   ]
  },
  {
   "cell_type": "code",
   "execution_count": 7,
   "id": "432c6c08",
   "metadata": {},
   "outputs": [],
   "source": [
    "SEED=123"
   ]
  },
  {
   "cell_type": "code",
   "execution_count": 8,
   "id": "d1f86aa1",
   "metadata": {},
   "outputs": [],
   "source": [
    "data = data.drop(['SEX','MARRIAGE','DPNM'], axis=1)\n",
    "data = data.sample(1000, random_state=SEED) #Obtengo el mismo resultado con 30000"
   ]
  },
  {
   "cell_type": "code",
   "execution_count": 9,
   "id": "3394d62b",
   "metadata": {},
   "outputs": [
    {
     "data": {
      "text/html": [
       "<div>\n",
       "<style scoped>\n",
       "    .dataframe tbody tr th:only-of-type {\n",
       "        vertical-align: middle;\n",
       "    }\n",
       "\n",
       "    .dataframe tbody tr th {\n",
       "        vertical-align: top;\n",
       "    }\n",
       "\n",
       "    .dataframe thead th {\n",
       "        text-align: right;\n",
       "    }\n",
       "</style>\n",
       "<table border=\"1\" class=\"dataframe\">\n",
       "  <thead>\n",
       "    <tr style=\"text-align: right;\">\n",
       "      <th></th>\n",
       "      <th>LIMIT_BAL</th>\n",
       "      <th>EDUCATION</th>\n",
       "      <th>AGE</th>\n",
       "      <th>PAY_0</th>\n",
       "      <th>PAY_2</th>\n",
       "      <th>PAY_3</th>\n",
       "      <th>PAY_4</th>\n",
       "      <th>PAY_5</th>\n",
       "      <th>PAY_6</th>\n",
       "      <th>BILL_AMT1</th>\n",
       "      <th>...</th>\n",
       "      <th>BILL_AMT3</th>\n",
       "      <th>BILL_AMT4</th>\n",
       "      <th>BILL_AMT5</th>\n",
       "      <th>BILL_AMT6</th>\n",
       "      <th>PAY_AMT1</th>\n",
       "      <th>PAY_AMT2</th>\n",
       "      <th>PAY_AMT3</th>\n",
       "      <th>PAY_AMT4</th>\n",
       "      <th>PAY_AMT5</th>\n",
       "      <th>PAY_AMT6</th>\n",
       "    </tr>\n",
       "  </thead>\n",
       "  <tbody>\n",
       "    <tr>\n",
       "      <th>25665</th>\n",
       "      <td>40000</td>\n",
       "      <td>2</td>\n",
       "      <td>26</td>\n",
       "      <td>-1</td>\n",
       "      <td>0</td>\n",
       "      <td>0</td>\n",
       "      <td>0</td>\n",
       "      <td>-1</td>\n",
       "      <td>0</td>\n",
       "      <td>28991</td>\n",
       "      <td>...</td>\n",
       "      <td>13600</td>\n",
       "      <td>0</td>\n",
       "      <td>44024</td>\n",
       "      <td>18697</td>\n",
       "      <td>1300</td>\n",
       "      <td>1000</td>\n",
       "      <td>0</td>\n",
       "      <td>22373</td>\n",
       "      <td>680</td>\n",
       "      <td>10000</td>\n",
       "    </tr>\n",
       "    <tr>\n",
       "      <th>16464</th>\n",
       "      <td>80000</td>\n",
       "      <td>3</td>\n",
       "      <td>59</td>\n",
       "      <td>0</td>\n",
       "      <td>0</td>\n",
       "      <td>0</td>\n",
       "      <td>0</td>\n",
       "      <td>0</td>\n",
       "      <td>0</td>\n",
       "      <td>75662</td>\n",
       "      <td>...</td>\n",
       "      <td>53169</td>\n",
       "      <td>50875</td>\n",
       "      <td>50372</td>\n",
       "      <td>49470</td>\n",
       "      <td>3212</td>\n",
       "      <td>2106</td>\n",
       "      <td>2000</td>\n",
       "      <td>1603</td>\n",
       "      <td>1903</td>\n",
       "      <td>2006</td>\n",
       "    </tr>\n",
       "    <tr>\n",
       "      <th>22386</th>\n",
       "      <td>170000</td>\n",
       "      <td>1</td>\n",
       "      <td>30</td>\n",
       "      <td>2</td>\n",
       "      <td>2</td>\n",
       "      <td>2</td>\n",
       "      <td>2</td>\n",
       "      <td>2</td>\n",
       "      <td>2</td>\n",
       "      <td>155910</td>\n",
       "      <td>...</td>\n",
       "      <td>161487</td>\n",
       "      <td>157577</td>\n",
       "      <td>168094</td>\n",
       "      <td>170922</td>\n",
       "      <td>6800</td>\n",
       "      <td>6500</td>\n",
       "      <td>0</td>\n",
       "      <td>13000</td>\n",
       "      <td>5500</td>\n",
       "      <td>1000</td>\n",
       "    </tr>\n",
       "    <tr>\n",
       "      <th>10149</th>\n",
       "      <td>200000</td>\n",
       "      <td>2</td>\n",
       "      <td>41</td>\n",
       "      <td>-2</td>\n",
       "      <td>-2</td>\n",
       "      <td>-2</td>\n",
       "      <td>-2</td>\n",
       "      <td>-2</td>\n",
       "      <td>-2</td>\n",
       "      <td>23570</td>\n",
       "      <td>...</td>\n",
       "      <td>0</td>\n",
       "      <td>0</td>\n",
       "      <td>0</td>\n",
       "      <td>0</td>\n",
       "      <td>742</td>\n",
       "      <td>0</td>\n",
       "      <td>0</td>\n",
       "      <td>0</td>\n",
       "      <td>0</td>\n",
       "      <td>0</td>\n",
       "    </tr>\n",
       "    <tr>\n",
       "      <th>8729</th>\n",
       "      <td>50000</td>\n",
       "      <td>2</td>\n",
       "      <td>43</td>\n",
       "      <td>0</td>\n",
       "      <td>0</td>\n",
       "      <td>0</td>\n",
       "      <td>0</td>\n",
       "      <td>0</td>\n",
       "      <td>0</td>\n",
       "      <td>8214</td>\n",
       "      <td>...</td>\n",
       "      <td>9044</td>\n",
       "      <td>9225</td>\n",
       "      <td>9417</td>\n",
       "      <td>9617</td>\n",
       "      <td>1140</td>\n",
       "      <td>1150</td>\n",
       "      <td>331</td>\n",
       "      <td>341</td>\n",
       "      <td>356</td>\n",
       "      <td>330</td>\n",
       "    </tr>\n",
       "  </tbody>\n",
       "</table>\n",
       "<p>5 rows × 21 columns</p>\n",
       "</div>"
      ],
      "text/plain": [
       "       LIMIT_BAL  EDUCATION  AGE  PAY_0  PAY_2  PAY_3  PAY_4  PAY_5  PAY_6  \\\n",
       "25665      40000          2   26     -1      0      0      0     -1      0   \n",
       "16464      80000          3   59      0      0      0      0      0      0   \n",
       "22386     170000          1   30      2      2      2      2      2      2   \n",
       "10149     200000          2   41     -2     -2     -2     -2     -2     -2   \n",
       "8729       50000          2   43      0      0      0      0      0      0   \n",
       "\n",
       "       BILL_AMT1  ...  BILL_AMT3  BILL_AMT4  BILL_AMT5  BILL_AMT6  PAY_AMT1  \\\n",
       "25665      28991  ...      13600          0      44024      18697      1300   \n",
       "16464      75662  ...      53169      50875      50372      49470      3212   \n",
       "22386     155910  ...     161487     157577     168094     170922      6800   \n",
       "10149      23570  ...          0          0          0          0       742   \n",
       "8729        8214  ...       9044       9225       9417       9617      1140   \n",
       "\n",
       "       PAY_AMT2  PAY_AMT3  PAY_AMT4  PAY_AMT5  PAY_AMT6  \n",
       "25665      1000         0     22373       680     10000  \n",
       "16464      2106      2000      1603      1903      2006  \n",
       "22386      6500         0     13000      5500      1000  \n",
       "10149         0         0         0         0         0  \n",
       "8729       1150       331       341       356       330  \n",
       "\n",
       "[5 rows x 21 columns]"
      ]
     },
     "execution_count": 9,
     "metadata": {},
     "output_type": "execute_result"
    }
   ],
   "source": [
    "data.head()"
   ]
  },
  {
   "cell_type": "code",
   "execution_count": 10,
   "id": "9935f53f",
   "metadata": {},
   "outputs": [
    {
     "name": "stdout",
     "output_type": "stream",
     "text": [
      "<class 'pandas.core.frame.DataFrame'>\n",
      "Int64Index: 1000 entries, 25665 to 10093\n",
      "Data columns (total 23 columns):\n",
      " #   Column          Non-Null Count  Dtype\n",
      "---  ------          --------------  -----\n",
      " 0   LIMIT_BAL       1000 non-null   int64\n",
      " 1   EDUCATION       1000 non-null   int64\n",
      " 2   AGE             1000 non-null   int64\n",
      " 3   PAY_0           1000 non-null   int64\n",
      " 4   PAY_2           1000 non-null   int64\n",
      " 5   PAY_3           1000 non-null   int64\n",
      " 6   PAY_4           1000 non-null   int64\n",
      " 7   PAY_5           1000 non-null   int64\n",
      " 8   PAY_6           1000 non-null   int64\n",
      " 9   BILL_AMT1       1000 non-null   int64\n",
      " 10  BILL_AMT2       1000 non-null   int64\n",
      " 11  BILL_AMT3       1000 non-null   int64\n",
      " 12  BILL_AMT4       1000 non-null   int64\n",
      " 13  BILL_AMT5       1000 non-null   int64\n",
      " 14  BILL_AMT6       1000 non-null   int64\n",
      " 15  PAY_AMT1        1000 non-null   int64\n",
      " 16  PAY_AMT2        1000 non-null   int64\n",
      " 17  PAY_AMT3        1000 non-null   int64\n",
      " 18  PAY_AMT4        1000 non-null   int64\n",
      " 19  PAY_AMT5        1000 non-null   int64\n",
      " 20  PAY_AMT6        1000 non-null   int64\n",
      " 21  BILL_AMT_total  1000 non-null   int64\n",
      " 22  PAY_AMT_total   1000 non-null   int64\n",
      "dtypes: int64(23)\n",
      "memory usage: 187.5 KB\n"
     ]
    }
   ],
   "source": [
    "data['BILL_AMT_total']=data['BILL_AMT1']+data['BILL_AMT2']+data['BILL_AMT3']+data['BILL_AMT4']+data['BILL_AMT5']+data['BILL_AMT6']\n",
    "data['PAY_AMT_total']=data['PAY_AMT1']+data['PAY_AMT2']+data['PAY_AMT3']+data['PAY_AMT4']+data['PAY_AMT5']+data['PAY_AMT6']\n",
    "data.info()\n"
   ]
  },
  {
   "cell_type": "code",
   "execution_count": 196,
   "id": "8ff93dab",
   "metadata": {},
   "outputs": [],
   "source": [
    "## X = data.iloc[:,[1,2,3,4,5,6,7,8,9,10,11,12,13,14,15,16,17]]\n",
    "#X = data.iloc[:,[2,3,5,6,21,22]]\n",
    "X = data.iloc[:,[2,5,21,22]]\n",
    "#X = data.iloc[:,[22]]"
   ]
  },
  {
   "cell_type": "code",
   "execution_count": 197,
   "id": "b9d90a60",
   "metadata": {},
   "outputs": [
    {
     "name": "stdout",
     "output_type": "stream",
     "text": [
      "Features sample\n"
     ]
    },
    {
     "data": {
      "text/html": [
       "<div>\n",
       "<style scoped>\n",
       "    .dataframe tbody tr th:only-of-type {\n",
       "        vertical-align: middle;\n",
       "    }\n",
       "\n",
       "    .dataframe tbody tr th {\n",
       "        vertical-align: top;\n",
       "    }\n",
       "\n",
       "    .dataframe thead th {\n",
       "        text-align: right;\n",
       "    }\n",
       "</style>\n",
       "<table border=\"1\" class=\"dataframe\">\n",
       "  <thead>\n",
       "    <tr style=\"text-align: right;\">\n",
       "      <th></th>\n",
       "      <th>AGE</th>\n",
       "      <th>PAY_3</th>\n",
       "      <th>BILL_AMT_total</th>\n",
       "      <th>PAY_AMT_total</th>\n",
       "    </tr>\n",
       "  </thead>\n",
       "  <tbody>\n",
       "    <tr>\n",
       "      <th>25665</th>\n",
       "      <td>26</td>\n",
       "      <td>0</td>\n",
       "      <td>129703</td>\n",
       "      <td>35353</td>\n",
       "    </tr>\n",
       "    <tr>\n",
       "      <th>16464</th>\n",
       "      <td>59</td>\n",
       "      <td>0</td>\n",
       "      <td>349621</td>\n",
       "      <td>12830</td>\n",
       "    </tr>\n",
       "    <tr>\n",
       "      <th>22386</th>\n",
       "      <td>30</td>\n",
       "      <td>2</td>\n",
       "      <td>972809</td>\n",
       "      <td>32800</td>\n",
       "    </tr>\n",
       "    <tr>\n",
       "      <th>10149</th>\n",
       "      <td>41</td>\n",
       "      <td>-2</td>\n",
       "      <td>24305</td>\n",
       "      <td>742</td>\n",
       "    </tr>\n",
       "    <tr>\n",
       "      <th>8729</th>\n",
       "      <td>43</td>\n",
       "      <td>0</td>\n",
       "      <td>53551</td>\n",
       "      <td>3648</td>\n",
       "    </tr>\n",
       "  </tbody>\n",
       "</table>\n",
       "</div>"
      ],
      "text/plain": [
       "       AGE  PAY_3  BILL_AMT_total  PAY_AMT_total\n",
       "25665   26      0          129703          35353\n",
       "16464   59      0          349621          12830\n",
       "22386   30      2          972809          32800\n",
       "10149   41     -2           24305            742\n",
       "8729    43      0           53551           3648"
      ]
     },
     "execution_count": 197,
     "metadata": {},
     "output_type": "execute_result"
    }
   ],
   "source": [
    "print(\"Features sample\")\n",
    "X.head()"
   ]
  },
  {
   "cell_type": "code",
   "execution_count": 198,
   "id": "44cb7cf0",
   "metadata": {},
   "outputs": [],
   "source": [
    "#data_d = EqualWidthDiscretiser(bins=10, variables = ['AGE'])\n",
    "#data_d.fit(data)\n",
    "#data_t = data_d.transform(data)\n",
    "#data_t.head(30)\n",
    "#data = data_t"
   ]
  },
  {
   "cell_type": "code",
   "execution_count": 199,
   "id": "7f7fca50",
   "metadata": {},
   "outputs": [
    {
     "name": "stdout",
     "output_type": "stream",
     "text": [
      "25665     40000\n",
      "16464     80000\n",
      "22386    170000\n",
      "10149    200000\n",
      "8729      50000\n",
      "          ...  \n",
      "4427     200000\n",
      "948      470000\n",
      "20532    180000\n",
      "22839    120000\n",
      "10093    210000\n",
      "Name: LIMIT_BAL, Length: 1000, dtype: int64\n"
     ]
    }
   ],
   "source": [
    "y = data['LIMIT_BAL']\n",
    "print(y)"
   ]
  },
  {
   "cell_type": "code",
   "execution_count": 200,
   "id": "c1ab416d",
   "metadata": {},
   "outputs": [],
   "source": [
    "#Algorithms\n",
    "lr = LinearRegression()\n",
    "#svr_alg   = SVR(kernel='poly', C=3, gamma='auto', degree=3, epsilon=.1,\n",
    "#               coef0=1) #This case take too much time and never converge\n",
    "svr_alg   = SVR()"
   ]
  },
  {
   "cell_type": "code",
   "execution_count": 201,
   "id": "169e32c2",
   "metadata": {},
   "outputs": [],
   "source": [
    "#rf = RandomForestRegressor(n_estimators=100, max_depth=30,random_state=SEED) #R2 =0.92 (train sample), R2 = 0.42 (test sample)\n",
    "#rf = RandomForestRegressor(n_estimators=100, max_depth=30,min_samples_leaf=15,random_state=SEED) #R2 =0.54 (train sample), R2 = 0.47 (test sample)\n",
    "#rf = RandomForestRegressor(n_estimators=100, max_depth=30,min_samples_leaf=15,max_features=2,random_state=SEED) #R2 =0.50 (train sample), R2 = 0.47 (test sample)"
   ]
  },
  {
   "cell_type": "code",
   "execution_count": 202,
   "id": "1a2d9ca2",
   "metadata": {},
   "outputs": [],
   "source": [
    "#Using only the default sample\n",
    "#rf = RandomForestRegressor(n_estimators=100,random_state=SEED) #R2 =0.92 (train sample), R2 = 0.39 (test sample)\n",
    "#rf = RandomForestRegressor(n_estimators=100, max_depth=30,random_state=SEED) #R2 =0.93 (train sample), R2 = 0.36 (test sample)\n",
    "#rf = RandomForestRegressor(n_estimators=1000, max_depth=100,min_samples_split=5, min_samples_leaf=10,max_features=sqrt,bootstrap=True,random_state=SEED) \n",
    "#rf = RandomForestRegressor(n_estimators=100, max_depth=30,min_samples_leaf=15,max_features=2,random_state=SEED) "
   ]
  },
  {
   "cell_type": "code",
   "execution_count": 203,
   "id": "a28e4981",
   "metadata": {},
   "outputs": [],
   "source": [
    "rf = RandomForestRegressor(bootstrap=False, max_depth=5, max_features='sqrt',min_samples_leaf=2,\n",
    "                           min_samples_split=2,n_estimators=10, random_state=SEED)"
   ]
  },
  {
   "cell_type": "code",
   "execution_count": 204,
   "id": "4d0ebd4c",
   "metadata": {},
   "outputs": [],
   "source": [
    "# list of algorithms\n",
    "# Set n_jobs to -1 in order to exploit all CPU cores in computation\n",
    "algos_Class = []\n",
    "algos_Class.append(('Random Forest Regressor', rf))\n",
    "algos_Class.append(('Linear Regression', lr))\n",
    "algos_Class.append(('Epsilon-Support Vector Regression', svr_alg))"
   ]
  },
  {
   "cell_type": "code",
   "execution_count": 205,
   "id": "62231ecb",
   "metadata": {},
   "outputs": [],
   "source": [
    "#Building and assesing models\n",
    "scores = []\n",
    "names = []\n",
    "for name, model in algos_Class:\n",
    "    score = cross_val_score(model, X,y, cv=5, scoring='r2')\n",
    "    names.append(name)\n",
    "    scores.append(score)"
   ]
  },
  {
   "cell_type": "code",
   "execution_count": 206,
   "id": "c7b0d190",
   "metadata": {},
   "outputs": [
    {
     "name": "stdout",
     "output_type": "stream",
     "text": [
      "Random Forest Regressor 0.37354971404838155\n",
      "Linear Regression 0.2698294687064823\n",
      "Epsilon-Support Vector Regression -0.049106436916232135\n"
     ]
    }
   ],
   "source": [
    "#Output\n",
    "for i in range(len(names)):\n",
    "    print(names[i],scores[i].mean())"
   ]
  },
  {
   "cell_type": "code",
   "execution_count": 207,
   "id": "854a9d89",
   "metadata": {},
   "outputs": [],
   "source": [
    "# Split data into 80% train and 20% test. We will try also 70% and 30 %\n",
    "X_train, X_test, y_train, y_test = train_test_split(X, y, test_size=0.2, random_state=123)"
   ]
  },
  {
   "cell_type": "code",
   "execution_count": 208,
   "id": "ee49b3a3",
   "metadata": {},
   "outputs": [
    {
     "data": {
      "text/plain": [
       "RandomForestRegressor(bootstrap=False, max_depth=5, max_features='sqrt',\n",
       "                      min_samples_leaf=2, n_estimators=10, random_state=123)"
      ]
     },
     "execution_count": 208,
     "metadata": {},
     "output_type": "execute_result"
    }
   ],
   "source": [
    "rf.fit(X_train, y_train)\n",
    "#lr.fit(X_train, y_train)"
   ]
  },
  {
   "cell_type": "code",
   "execution_count": 209,
   "id": "241998ab",
   "metadata": {},
   "outputs": [],
   "source": [
    "y_predict = rf.predict(X_test)\n",
    "#y_predict = lr.predict(X_test)"
   ]
  },
  {
   "cell_type": "code",
   "execution_count": 210,
   "id": "fedeb64a",
   "metadata": {},
   "outputs": [
    {
     "name": "stdout",
     "output_type": "stream",
     "text": [
      "Test set MAE of rf: 63674.18\n"
     ]
    }
   ],
   "source": [
    "mae_test = MAE(y_test, y_predict)\n",
    "# Print the test set MAE\n",
    "print('Test set MAE of rf: {:.2f}'.format(mae_test))"
   ]
  },
  {
   "cell_type": "code",
   "execution_count": 211,
   "id": "0ad34dfa",
   "metadata": {},
   "outputs": [
    {
     "name": "stdout",
     "output_type": "stream",
     "text": [
      "Test set MSE of rf: 89925.01\n"
     ]
    }
   ],
   "source": [
    "mse_test = sqrt(MSE(y_test, y_predict))\n",
    "# Print the test set MSE\n",
    "print('Test set MSE of rf: {:.2f}'.format(mse_test))"
   ]
  },
  {
   "cell_type": "code",
   "execution_count": 212,
   "id": "36149dab",
   "metadata": {},
   "outputs": [
    {
     "name": "stdout",
     "output_type": "stream",
     "text": [
      "R2 Score of rf: 0.45\n"
     ]
    }
   ],
   "source": [
    "r2_score_test = r2_score(y_test, y_predict)\n",
    "print('R2 Score of rf: {:.2f}'.format(r2_score_test))"
   ]
  },
  {
   "cell_type": "code",
   "execution_count": 213,
   "id": "99f0632b",
   "metadata": {},
   "outputs": [
    {
     "name": "stdout",
     "output_type": "stream",
     "text": [
      "0.5446759055567341\n"
     ]
    }
   ],
   "source": [
    "print(rf.score(X_train, y_train))"
   ]
  },
  {
   "cell_type": "code",
   "execution_count": 214,
   "id": "5b4252cf",
   "metadata": {},
   "outputs": [
    {
     "name": "stdout",
     "output_type": "stream",
     "text": [
      "0.44865740590317027\n"
     ]
    }
   ],
   "source": [
    "print(rf.score(X_test, y_test))"
   ]
  },
  {
   "cell_type": "code",
   "execution_count": 215,
   "id": "7faee2d1",
   "metadata": {},
   "outputs": [
    {
     "data": {
      "image/png": "[encoded data removed]",
      "text/plain": [
       "<Figure size 432x288 with 1 Axes>"
      ]
     },
     "metadata": {
      "needs_background": "light"
     },
     "output_type": "display_data"
    }
   ],
   "source": [
    "# See Feature importance\n",
    "importances_rf = pd.Series(rf.feature_importances_, index = X.columns)\n",
    "#Sort importances\n",
    "sorted_importances_rf = importances_rf.sort_values()\n",
    "#Show\n",
    "sorted_importances_rf.plot(kind='barh', color='blue')\n",
    "plt.xlabel(\"Feature Importance\")\n",
    "plt.show()"
   ]
  },
  {
   "cell_type": "code",
   "execution_count": 216,
   "id": "30c23e98",
   "metadata": {},
   "outputs": [
    {
     "data": {
      "text/plain": [
       "{'whiskers': [<matplotlib.lines.Line2D at 0x16e61e460>,\n",
       "  <matplotlib.lines.Line2D at 0x16e61e7c0>],\n",
       " 'caps': [<matplotlib.lines.Line2D at 0x16e61eb20>,\n",
       "  <matplotlib.lines.Line2D at 0x16e61ee80>],\n",
       " 'boxes': [<matplotlib.lines.Line2D at 0x16e61e100>],\n",
       " 'medians': [<matplotlib.lines.Line2D at 0x16e62a220>],\n",
       " 'fliers': [<matplotlib.lines.Line2D at 0x16e62a580>],\n",
       " 'means': []}"
      ]
     },
     "execution_count": 216,
     "metadata": {},
     "output_type": "execute_result"
    },
    {
     "data": {
      "image/png": "[encoded data removed]",
      "text/plain": [
       "<Figure size 432x288 with 1 Axes>"
      ]
     },
     "metadata": {
      "needs_background": "light"
     },
     "output_type": "display_data"
    }
   ],
   "source": [
    "plt.boxplot(y_predict)\n",
    "#plt.box(X_test['PAY_AMT_total'], y_test)\n",
    "#plt.box(X_test['PAY_AMT_total'], y_predict)\n",
    "\n"
   ]
  },
  {
   "cell_type": "code",
   "execution_count": 217,
   "id": "fa965214",
   "metadata": {},
   "outputs": [
    {
     "name": "stdout",
     "output_type": "stream",
     "text": [
      "4\n"
     ]
    }
   ],
   "source": [
    "print(rf.n_features_)"
   ]
  },
  {
   "cell_type": "code",
   "execution_count": null,
   "id": "83a7a743",
   "metadata": {},
   "outputs": [],
   "source": []
  },
  {
   "cell_type": "code",
   "execution_count": null,
   "id": "1f4bc536",
   "metadata": {},
   "outputs": [],
   "source": []
  },
  {
   "cell_type": "code",
   "execution_count": null,
   "id": "6b57a15c",
   "metadata": {},
   "outputs": [],
   "source": []
  }
 ],
 "metadata": {
  "kernelspec": {
   "display_name": "Python 3",
   "language": "python",
   "name": "python3"
  },
  "language_info": {
   "codemirror_mode": {
    "name": "ipython",
    "version": 3
   },
   "file_extension": ".py",
   "mimetype": "text/x-python",
   "name": "python",
   "nbconvert_exporter": "python",
   "pygments_lexer": "ipython3",
   "version": "3.9.4"
  }
 },
 "nbformat": 4,
 "nbformat_minor": 5
}
